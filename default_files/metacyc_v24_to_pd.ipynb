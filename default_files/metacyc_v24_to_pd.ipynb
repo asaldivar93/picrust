{
 "cells": [
  {
   "cell_type": "code",
   "execution_count": 1,
   "metadata": {},
   "outputs": [],
   "source": [
    "import pythoncyc as pcyc\n",
    "import pandas as pd\n",
    "import os\n",
    "os.chdir('/home/alexis/UAM/picrust/default_files')"
   ]
  },
  {
   "cell_type": "code",
   "execution_count": 7,
   "metadata": {},
   "outputs": [],
   "source": [
    "EC_reactions = pd.DataFrame()\n",
    "metacyc = pcyc.select_organism('meta')\n",
    "reactions = metacyc.all_reactions('all')\n",
    "for rxn in reactions:\n",
    "    if not metacyc[rxn].right:\n",
    "        pass\n",
    "    else:\n",
    "        EC_reactions.loc[rxn.replace('|',''), 'Right'] = ' '.join(metacyc[rxn].right).replace('|','')\n",
    "    if not metacyc[rxn].left:\n",
    "        pass\n",
    "    else:\n",
    "        EC_reactions.loc[rxn.replace('|',''), 'Left'] = ' '.join(metacyc[rxn].left).replace('|','')\n",
    "    if not metacyc[rxn].ec_number:\n",
    "        pass\n",
    "    else:\n",
    "        EC_reactions.loc[rxn.replace('|',''), 'EC-Number'] = ' '.join(metacyc[rxn].ec_number).replace('|','').replace('-',':')"
   ]
  },
  {
   "cell_type": "code",
   "execution_count": 170,
   "metadata": {},
   "outputs": [
    {
     "data": {
      "text/html": [
       "<div>\n",
       "<style scoped>\n",
       "    .dataframe tbody tr th:only-of-type {\n",
       "        vertical-align: middle;\n",
       "    }\n",
       "\n",
       "    .dataframe tbody tr th {\n",
       "        vertical-align: top;\n",
       "    }\n",
       "\n",
       "    .dataframe thead th {\n",
       "        text-align: right;\n",
       "    }\n",
       "</style>\n",
       "<table border=\"1\" class=\"dataframe\">\n",
       "  <thead>\n",
       "    <tr style=\"text-align: right;\">\n",
       "      <th></th>\n",
       "      <th>Right</th>\n",
       "      <th>Left</th>\n",
       "      <th>EC-Number</th>\n",
       "    </tr>\n",
       "    <tr>\n",
       "      <th>Reaction</th>\n",
       "      <th></th>\n",
       "      <th></th>\n",
       "      <th></th>\n",
       "    </tr>\n",
       "  </thead>\n",
       "  <tbody>\n",
       "    <tr>\n",
       "      <th>added_123</th>\n",
       "      <td>PROTON OXYGEN-MOLECULE Cytochromes-C-Reduced</td>\n",
       "      <td>PROTON WATER Cytochromes-C-Oxidized</td>\n",
       "      <td>EC:1.9.3.1</td>\n",
       "    </tr>\n",
       "    <tr>\n",
       "      <th>added_124</th>\n",
       "      <td>DEOXYGUANOSINE ATP</td>\n",
       "      <td>DGMP ADP PROTON</td>\n",
       "      <td>EC:2.7.1.113</td>\n",
       "    </tr>\n",
       "    <tr>\n",
       "      <th>added_125</th>\n",
       "      <td>DNA-Combined-With-Exogenous-DNA WATER</td>\n",
       "      <td>Resolution-of-Recombinational-Junction</td>\n",
       "      <td>EC:3.1.22.4</td>\n",
       "    </tr>\n",
       "    <tr>\n",
       "      <th>added_126</th>\n",
       "      <td>TYR</td>\n",
       "      <td>COUMARATE AMMONIUM</td>\n",
       "      <td>EC:4.3.1.23</td>\n",
       "    </tr>\n",
       "    <tr>\n",
       "      <th>added_127</th>\n",
       "      <td>Hpr-pi-phospho-L-histidines GLUCOSAMINE</td>\n",
       "      <td>D-GLUCOSAMINE-6-P Hpr-Histidine</td>\n",
       "      <td>EC:2.7.1.69</td>\n",
       "    </tr>\n",
       "  </tbody>\n",
       "</table>\n",
       "</div>"
      ],
      "text/plain": [
       "                                                  Right  \\\n",
       "Reaction                                                  \n",
       "added_123  PROTON OXYGEN-MOLECULE Cytochromes-C-Reduced   \n",
       "added_124                            DEOXYGUANOSINE ATP   \n",
       "added_125         DNA-Combined-With-Exogenous-DNA WATER   \n",
       "added_126                                           TYR   \n",
       "added_127       Hpr-pi-phospho-L-histidines GLUCOSAMINE   \n",
       "\n",
       "                                             Left     EC-Number  \n",
       "Reaction                                                         \n",
       "added_123     PROTON WATER Cytochromes-C-Oxidized    EC:1.9.3.1  \n",
       "added_124                         DGMP ADP PROTON  EC:2.7.1.113  \n",
       "added_125  Resolution-of-Recombinational-Junction   EC:3.1.22.4  \n",
       "added_126                      COUMARATE AMMONIUM   EC:4.3.1.23  \n",
       "added_127         D-GLUCOSAMINE-6-P Hpr-Histidine   EC:2.7.1.69  "
      ]
     },
     "execution_count": 170,
     "metadata": {},
     "output_type": "execute_result"
    }
   ],
   "source": [
    "EC_reactions.loc['added_127','Right'] = 'Hpr-pi-phospho-L-histidines GLUCOSAMINE'\n",
    "EC_reactions.loc['added_127','Left'] = 'D-GLUCOSAMINE-6-P Hpr-Histidine'  \n",
    "EC_reactions.loc['added_127','EC-Number'] = 'EC:2.7.1.69'\n",
    "EC_reactions.tail()"
   ]
  },
  {
   "cell_type": "code",
   "execution_count": 172,
   "metadata": {},
   "outputs": [],
   "source": [
    "EC_reactions.index.name = 'Reaction'\n",
    "#EC_reactions.to_csv('metacyc_rxns_v24_ADDED.csv', sep = '\\t')"
   ]
  }
 ],
 "metadata": {
  "kernelspec": {
   "display_name": "Python 3",
   "language": "python",
   "name": "python3"
  },
  "language_info": {
   "codemirror_mode": {
    "name": "ipython",
    "version": 3
   },
   "file_extension": ".py",
   "mimetype": "text/x-python",
   "name": "python",
   "nbconvert_exporter": "python",
   "pygments_lexer": "ipython3",
   "version": "3.7.6"
  }
 },
 "nbformat": 4,
 "nbformat_minor": 4
}
