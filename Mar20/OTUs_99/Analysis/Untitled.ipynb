{
 "cells": [
  {
   "cell_type": "code",
   "execution_count": 1,
   "metadata": {},
   "outputs": [],
   "source": [
    "import seaborn as sns"
   ]
  },
  {
   "cell_type": "code",
   "execution_count": 3,
   "metadata": {},
   "outputs": [
    {
     "data": {
      "application/vnd.jupyter.widget-view+json": {
       "model_id": "62a930d1e1254e34b701e7e998493271",
       "version_major": 2,
       "version_minor": 0
      },
      "text/plain": [
       "interactive(children=(IntSlider(value=220, description='h_neg', max=359), IntSlider(value=10, description='h_p…"
      ]
     },
     "metadata": {},
     "output_type": "display_data"
    },
    {
     "data": {
      "text/plain": [
       "[(0.2519971417644415, 0.4987337088076726, 0.5751602783606602),\n",
       " (0.43156001218774975, 0.6160490836499025, 0.6735874169971766),\n",
       " (0.611122882611058, 0.7333644584921324, 0.7720145556336929),\n",
       " (0.7906857530343663, 0.8506798333343624, 0.8704416942702093),\n",
       " (0.95, 0.95, 0.95),\n",
       " (0.9282549678814984, 0.7863704363662967, 0.7963965173228867),\n",
       " (0.9022582584936525, 0.6005186021022944, 0.622400049291663),\n",
       " (0.8762615491058064, 0.4146667678382919, 0.44840358126043944),\n",
       " (0.8510408608937171, 0.23436274952246883, 0.2796010376480583)]"
      ]
     },
     "execution_count": 3,
     "metadata": {},
     "output_type": "execute_result"
    }
   ],
   "source": [
    "sns.choose_diverging_palette()"
   ]
  }
 ],
 "metadata": {
  "kernelspec": {
   "display_name": "Python 3",
   "language": "python",
   "name": "python3"
  },
  "language_info": {
   "codemirror_mode": {
    "name": "ipython",
    "version": 3
   },
   "file_extension": ".py",
   "mimetype": "text/x-python",
   "name": "python",
   "nbconvert_exporter": "python",
   "pygments_lexer": "ipython3",
   "version": "3.6.12"
  }
 },
 "nbformat": 4,
 "nbformat_minor": 4
}
